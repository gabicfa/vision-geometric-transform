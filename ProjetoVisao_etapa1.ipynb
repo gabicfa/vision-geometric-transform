{
 "cells": [
  {
   "cell_type": "markdown",
   "metadata": {},
   "source": [
    "# Transformações geométricas - Parte 1 do Projeto de Visão"
   ]
  },
  {
   "cell_type": "markdown",
   "metadata": {},
   "source": [
    "Vamos gerar uma imagem de entrada com algumas coordenadas conhecidas.  Desta seção você só vai precisar das coordenadas dos pontos na imagem de entrada e na imagem de saída"
   ]
  },
  {
   "cell_type": "code",
   "execution_count": 249,
   "metadata": {
    "collapsed": false
   },
   "outputs": [],
   "source": [
    "import matplotlib.pyplot as plt\n",
    "\n",
    "from matplotlib import colors\n",
    "\n",
    "from sympy import symbols\n",
    "from sympy.core.trace import Tr\n",
    "from IPython.core.display import display_pretty\n",
    "from sympy.printing.latex import *\n",
    "\n",
    "from sympy import init_printing; init_printing()\n",
    "from sympy.interactive import printing\n",
    "printing.init_printing(use_latex=True)\n",
    "\n",
    "from IPython.display import display\n",
    "\n",
    "import sympy as sp\n",
    "import math\n",
    "\n",
    "from numpy import *\n",
    "import numpy as np\n",
    "\n",
    "\n",
    "import cv2\n",
    "\n",
    "import numpy as np\n",
    "\n",
    "%matplotlib inline\n",
    "\n",
    "sp_x = 30\n",
    "sp_y = 30\n",
    "x_blocks = 6\n",
    "y_blocks = 6"
   ]
  },
  {
   "cell_type": "code",
   "execution_count": 250,
   "metadata": {
    "collapsed": false
   },
   "outputs": [],
   "source": [
    "# Cria uma imagem RGB  em branco\n",
    "blank = 255*np.ones((sp_x * x_blocks,sp_y*y_blocks,3), np.uint8)"
   ]
  },
  {
   "cell_type": "code",
   "execution_count": 251,
   "metadata": {
    "collapsed": true
   },
   "outputs": [],
   "source": [
    "# Coordenadas de entrada de alguns pontos\n",
    "points = [[1,1],\n",
    "          [5,1],\n",
    "          [1,3],\n",
    "          [3,3],\n",
    "          [5,3],\n",
    "          [1,5],\n",
    "          [5,5]]"
   ]
  },
  {
   "cell_type": "code",
   "execution_count": 252,
   "metadata": {
    "collapsed": true
   },
   "outputs": [],
   "source": [
    "# Cores a usar para os pontos\n",
    "point_colors = ['r', 'g', 'b', 'c', 'm', 'y', 'k']"
   ]
  },
  {
   "cell_type": "markdown",
   "metadata": {},
   "source": [
    "## Coordenadas dos pontos na imagem de entrada\n",
    "\n",
    "Este loop imprime as coordenadas.\n",
    "\n",
    "As cores dos pontos servem para identificá-los"
   ]
  },
  {
   "cell_type": "code",
   "execution_count": 253,
   "metadata": {
    "collapsed": false
   },
   "outputs": [
    {
     "name": "stdout",
     "output_type": "stream",
     "text": [
      "Posição dos pontos: (x_entrada, y_entrada)\n",
      "(30, 30)\n",
      "(150, 30)\n",
      "(30, 90)\n",
      "(90, 90)\n",
      "(150, 90)\n",
      "(30, 150)\n",
      "(150, 150)\n"
     ]
    }
   ],
   "source": [
    "sp_x = 30 # x spacing\n",
    "sp_y = 30 # y spacing\n",
    "point_size = 5\n",
    "print(\"Posição dos pontos: (x_entrada, y_entrada)\")\n",
    "\n",
    "for i in range(len(points)):\n",
    "    point_color = [int(255*canal) for canal in colors.colorConverter.colors[point_colors[i]]]\n",
    "    point_position = (sp_x*points[i][0], sp_y*points[i][1])\n",
    "    print(point_position)\n",
    "    cv2.circle(blank,point_position, point_size, point_color, -1)\n"
   ]
  },
  {
   "cell_type": "markdown",
   "metadata": {},
   "source": [
    "## Imagem de entrada"
   ]
  },
  {
   "cell_type": "code",
   "execution_count": 254,
   "metadata": {
    "collapsed": false
   },
   "outputs": [
    {
     "data": {
      "text/plain": [
       "<matplotlib.image.AxesImage at 0x10e26c0d0>"
      ]
     },
     "execution_count": 254,
     "metadata": {},
     "output_type": "execute_result"
    },
    {
     "data": {
      "image/png": "[encoded data removed]",
      "text/plain": [
       "<matplotlib.figure.Figure at 0x10e18f890>"
      ]
     },
     "metadata": {},
     "output_type": "display_data"
    }
   ],
   "source": [
    "blank_rgb = cv2.cvtColor(blank, cv2.COLOR_BGR2RGB)\n",
    "plt.imshow(blank)"
   ]
  },
  {
   "cell_type": "markdown",
   "metadata": {},
   "source": [
    "Se precisar abrir a imagem fora deste *notebook*, use o arquivo `dots_pattern.png`\n"
   ]
  },
  {
   "cell_type": "code",
   "execution_count": 255,
   "metadata": {
    "collapsed": false
   },
   "outputs": [
    {
     "data": {
      "text/plain": [
       "True"
      ]
     },
     "execution_count": 255,
     "metadata": {},
     "output_type": "execute_result"
    }
   ],
   "source": [
    "cv2.imwrite(\"dots_pattern.png\", blank)"
   ]
  },
  {
   "cell_type": "markdown",
   "metadata": {},
   "source": [
    "## Padrão de saída\n",
    "\n",
    "Foi aplicada uma transformação à imagem de entrada, que gerou o seguinte padrão de saída:"
   ]
  },
  {
   "cell_type": "code",
   "execution_count": 256,
   "metadata": {
    "collapsed": false
   },
   "outputs": [],
   "source": [
    "saida = cv2.imread(\"patterns_transformed.png\")"
   ]
  },
  {
   "cell_type": "code",
   "execution_count": 257,
   "metadata": {
    "collapsed": false
   },
   "outputs": [
    {
     "data": {
      "text/plain": [
       "<matplotlib.image.AxesImage at 0x10e39ec90>"
      ]
     },
     "execution_count": 257,
     "metadata": {},
     "output_type": "execute_result"
    },
    {
     "data": {
      "image/png": "[encoded data removed]",
      "text/plain": [
       "<matplotlib.figure.Figure at 0x10e19a2d0>"
      ]
     },
     "metadata": {},
     "output_type": "display_data"
    }
   ],
   "source": [
    "plt.imshow(saida)"
   ]
  },
  {
   "cell_type": "markdown",
   "metadata": {},
   "source": [
    "Sabe-se que a imagem de saída é igual a uma combinação de rotações em torno de um ponto arbitrário e  redimensionamentos (escala) da imagem de entrada. Para simplificar, assuma que o redimensionamento é igual nos eixos $x$ e $y$\n",
    "\n",
    "Cada ponto da imagem de saída está relacionado à sua posição na imagem de entrada pela seguinte transformação:\n",
    "\n",
    "$$\n",
    "\\begin{pmatrix}\n",
    "x_{saida} \\\\\n",
    "y_{saida} \\\\\n",
    "1\n",
    "\\end{pmatrix}\n",
    " = \n",
    "\\begin{pmatrix}\n",
    "   \\alpha &\\beta &(1-\\alpha \\cdot center.x - \\beta \\cdot center.y) \\\\\n",
    "   -\\beta & \\alpha & \\beta \\cdot center.x + (1 - \\alpha \\cdot center.y) \\\\ 0 & 0 & 1\n",
    "\\end{pmatrix} \\cdot \\begin{pmatrix} x_{entrada} \\\\ y_{entrada} \\\\ 1 \\end{pmatrix} \n",
    "$$\n",
    "\n",
    "Na equação acima:\n",
    "\n",
    "$\\alpha = escala \\cdot \\cos(\\theta)$ \n",
    "\n",
    "$\\beta = escala \\cdot \\sin(\\theta) $ \n",
    "\n",
    "$x_{entrada}$ é a posição $x$ de cada pixel na imagem de entrada\n",
    "\n",
    "$y_{entrada}$ é a posição $y$ de cada pixel na imagem de entrada\n",
    "\n",
    "$center$ é o centro de rotação\n",
    "\n",
    "$x_{saída}$ é a coordenada $x$ do pixel na imagem de saída\n",
    "\n",
    "$y_{saída}$ é a coordenada $y$ do pixel na imagem de saída\n",
    "\n",
    "\n",
    "Com translação:\n",
    "\n",
    "$$\n",
    "\\begin{pmatrix}\n",
    "x_{saida} \\\\\n",
    "y_{saida} \\\\\n",
    "1\n",
    "\\end{pmatrix}\n",
    " =\n",
    "\\begin{pmatrix}\n",
    "   \\alpha &\\beta &(1-\\alpha \\cdot center.x - \\beta \\cdot center.y) + t_x \\\\\n",
    "   -\\beta & \\alpha & \\beta \\cdot center.x + (1 - \\alpha \\cdot center.y) + t_y \\\\ 0 & 0 & 1\n",
    "\\end{pmatrix} \\cdot \\begin{pmatrix} x_{entrada} \\\\ y_{entrada} \\\\ 1 \\end{pmatrix}\n",
    "$$\n",
    "\n"
   ]
  },
  {
   "cell_type": "markdown",
   "metadata": {},
   "source": [
    "# Matrizes de transformação com rotação, translação e escala\n",
    "\n",
    "\n",
    "Uma matriz de translação por uma distância $ [ x_t   y_t ]$ em 2D é:\n",
    "\n",
    "$$\n",
    "T = \\begin{pmatrix} 1 & 0 & x_t \\\\\n",
    "0 & 1 & y_t \\\\\n",
    "0 & 0 & 1 \n",
    "\\end{pmatrix}\n",
    "$$\n",
    "\n",
    "Uma matriz de rotação por um ângulo $\\theta$ é:\n",
    "\n",
    "$$\n",
    "R = \\begin{pmatrix} \\cos(\\theta) & -\\sin(\\theta) & 0 \\\\\n",
    "\\sin(\\theta) & \\cos(\\theta) & 0 \\\\\n",
    "0 & 0 & 1 \n",
    "\\end{pmatrix}\n",
    "$$\n",
    "\n",
    "Uma matriz que aplica um fator de escala  $s$ igual nos eixos $x$ e $y$ é:\n",
    "\n",
    "\n",
    "$$\n",
    "S = \\begin{pmatrix} s & 0  & 0 \\\\\n",
    "0 & s & 0 \\\\\n",
    "0 & 0 & 1 \n",
    "\\end{pmatrix}\n",
    "$$\n",
    "\n",
    "\n",
    "Uma transformação genérica, composta de rotação, escala e transação (nesta ordem) é dada por:\n",
    "\n",
    "$$\n",
    "M = T \\cdot S \\cdot R\n",
    "$$\n",
    "\n",
    "Ou seja:\n",
    "$$\n",
    "M = \\begin{pmatrix} 1 & 0 & x_t \\\\\n",
    "0 & 1 & y_t \\\\\n",
    "0 & 0 & 1 \n",
    "\\end{pmatrix}\n",
    "\\cdot\n",
    "\\begin{pmatrix} \\cos(\\theta) & -\\sin(\\theta) & 0 \\\\\n",
    "\\sin(\\theta) & \\cos(\\theta) & 0 \\\\\n",
    "0 & 0 & 1 \n",
    "\\end{pmatrix}\n",
    "\\cdot\n",
    "\\begin{pmatrix} s & 0  & 0 \\\\\n",
    "0 & s & 0 \\\\\n",
    "0 & 0 & 1 \n",
    "\\end{pmatrix}\n",
    "$$\n",
    "\n",
    "Multiplicando as três matrizes, temos que uma transformação afim composta de rotação, escala e translação é:\n",
    "\n",
    "$$\n",
    "M = \\begin{pmatrix} s\\cdot\\cos(\\theta) & -s\\cdot\\sin(\\theta) & x_t \\\\\n",
    "-s\\cdot\\sin(\\theta) & -s\\cdot\\cos(\\theta) & y_t \\\\\n",
    "0 & 0 & 1 \n",
    "\\end{pmatrix}\n",
    "$$\n",
    "\n",
    "\n",
    "Desta forma, um ponto de entrada representado por $( x_{i}, y_{i} ) $ será transformado num ponto de saída $(x_{saida}, y_{saida})$ quando multiplicado pela matrix $M$\n",
    "\n",
    "\n",
    "$$\n",
    "\\begin{pmatrix}x_{saida} \\\\ y_{saida} \\end{pmatrix} = \\begin{pmatrix} s\\cdot\\cos(\\theta) & -s\\cdot\\sin(\\theta) & x_t \\\\\n",
    "-s\\cdot\\sin(\\theta) & -s\\cdot\\cos(\\theta) & y_t \\\\\n",
    "0 & 0 & 1 \n",
    "\\end{pmatrix} \\cdot \\begin{pmatrix} x_{i} \\\\ y_{i} \\end{pmatrix} \n",
    "$$\n",
    "\n",
    "Teremos, então:\n",
    "\n",
    "$$\n",
    "x_{saida} = x_{i} \\cdot s \\cdot \\cos(\\theta) - y_{i} \\cdot s \\cdot \\sin(\\theta) + x_t $$\n",
    "e \n",
    "$$ y_{saida} = - x_{i} \\cdot s \\cdot \\sin(\\theta) - y_{i} \\cdot s \\cdot \\cos(\\theta) + y_t\n",
    "$$\n",
    "\n",
    "Por simplicidade, ao estimar uma transformação, ajuda trabalhar com as seguintes relações:\n",
    "\n",
    "$\\alpha =  s \\cdot \\cos(\\theta)$\n",
    "\n",
    "e \n",
    "\n",
    "$\\beta = s \\cdot \\sin(\\theta) $\n",
    "\n",
    "E encarar a matriz da seguinte forma:\n",
    "\n",
    "\n",
    "$$\n",
    "\\begin{pmatrix}x_{saida} \\\\ y_{saida} \\end{pmatrix} = \\begin{pmatrix} \\alpha & -\\beta & x_t \\\\\n",
    "-\\beta & -\\alpha & y_t \\\\\n",
    "0 & 0 & 1 \n",
    "\\end{pmatrix} \\cdot \\begin{pmatrix} x_{i} \\\\ y_{i} \\end{pmatrix} \n",
    "$$\n",
    "\n"
   ]
  },
  {
   "cell_type": "markdown",
   "metadata": {},
   "source": [
    "# Atividade 1\n",
    "\n",
    "Responda (no IPython Notebook): \n",
    "\n",
    "1. Quantos graus de liberdade (variáveis) determinam a transformação acima?\n",
    "\n",
    "2. Supondo que a transformação aplicada para transformar a imagem de entrada na imagem do arquivo `patterns_transformed.png` é desconhecida, é possível descobrir qual é esta transformação? Como?\n",
    "\n",
    "3. Crie uma tabela para os 7 pontos de entrada fornecidos em que constem quais suas posições na imagem de entrada e depois quais suas posições após transformados, na imagem de saída.\n",
    "\n",
    "4. Considerando o número de variáveis da matriz de transformação fornecida, de quantas correspondências $p_{entrada} \\Rightarrow p_{saida}$ você precisa para descobrir qual é a matriz?\n",
    "\n",
    "5. Por que poderia ser útil usar **mais** correspondências do que a resposta que você deu no item anterior?\n",
    "\n",
    "6. Expanda a equação da transformação usando os pontos de entrada e saída de sua tabela até ter um sistema sobredeterminado. <font color=red> Reserve pelo menos 1 hora para esta atividade - trabalhoso </font>. Talvez você ache útil aprender a usar um *Computer Algebra System* para fazer isso, por exemplo o Sympy ou o Maxima.\n",
    "\n",
    "7. A partir do sistema sobredeterminado que você encontrou no item anterior, resolva e estime qual é a transformação que foi usada para converter a imagem de entrada na imagem de saída. Você pode usar o método de *Least Squares* que está presente no *Scipy* ou o *RANSAC* da OpenCV, por exemplo.\n",
    "\n",
    "8. Aplique a transformação à imagem de entrada e verifique se o resultado que obteve se assemelha à imagem de saída. A função da OpenCV que permite que você faça isso é a *cv2.warpAffine()* "
   ]
  },
  {
   "cell_type": "markdown",
   "metadata": {},
   "source": [
    "# Respostas"
   ]
  },
  {
   "cell_type": "markdown",
   "metadata": {},
   "source": [
    "#### 1) \n",
    "Existem 4 graus de liberdade : θ, escala, x da translação e y da translação.\n",
    "\n",
    "#### 2) \n",
    "Sim, é possível descobrir a transformação, descobrindo a matriz perspectiva."
   ]
  },
  {
   "cell_type": "code",
   "execution_count": 258,
   "metadata": {
    "collapsed": false
   },
   "outputs": [
    {
     "data": {
      "text/html": [
       "<table><tr><td>ponto</td><td>X entrada</td><td>Y entrada</td><td>X saida</td><td>Y saida</td></tr><tr><td>vermelho</td><td>30</td><td>30</td><td>135</td><td>95</td></tr><tr><td>azul </td><td>30</td><td>90</td><td>115</td><td>150</td></tr><tr><td>amarelo</td><td>30</td><td>150</td><td>90</td><td>205</td></tr><tr><td>turquesa</td><td>90</td><td>90</td><td>170</td><td>170</td></tr><tr><td>verde</td><td>150</td><td>30</td><td>250</td><td>140</td></tr><tr><td>roxo</td><td>150</td><td>90</td><td>225</td><td>195</td></tr><tr><td>preto</td><td>150</td><td>150</td><td>200</td><td>250</td></tr></table>"
      ],
      "text/plain": [
       "[['ponto', 'X entrada', 'Y entrada', 'X saida', 'Y saida'],\n",
       " ['vermelho', 30, 30, 135, 95],\n",
       " ['azul ', 30, 90, 115, 150],\n",
       " ['amarelo', 30, 150, 90, 205],\n",
       " ['turquesa', 90, 90, 170, 170],\n",
       " ['verde', 150, 30, 250, 140],\n",
       " ['roxo', 150, 90, 225, 195],\n",
       " ['preto', 150, 150, 200, 250]]"
      ]
     },
     "execution_count": 258,
     "metadata": {},
     "output_type": "execute_result"
    }
   ],
   "source": [
    "#3)\n",
    "class ListTable(list):\n",
    "    def _repr_html_(self):\n",
    "        html = [\"<table>\"]\n",
    "        for row in self:\n",
    "            html.append(\"<tr>\")\n",
    "            \n",
    "            for col in row:\n",
    "                html.append(\"<td>{0}</td>\".format(col))\n",
    "            \n",
    "            html.append(\"</tr>\")\n",
    "        html.append(\"</table>\")\n",
    "        return ''.join(html)\n",
    "\n",
    "import random\n",
    "table = ListTable()\n",
    "table.append(['ponto', 'X entrada', 'Y entrada', 'X saida','Y saida'])\n",
    "table.append(['vermelho', 30, 30, 135,95])\n",
    "table.append([\"azul \",30,90,115,150])\n",
    "table.append([\"amarelo\",30,150,90,205])\n",
    "table.append([\"turquesa\",90,90,170,170])\n",
    "table.append([\"verde\",150,30,250,140])\n",
    "table.append([\"roxo\",150,90,225,195])\n",
    "table.append([\"preto\",150,150,200,250])\n",
    "table\n"
   ]
  },
  {
   "cell_type": "markdown",
   "metadata": {},
   "source": [
    "#### 4) \n",
    "É preciso de 2 correspondências  Pentrada ⇒ Psaida para descobrir qual é a matriz Transformação.\n",
    "\n",
    "#### 5)\n",
    "Seria útil ter mais que 2 correspondências para ter uma maior precisão dos graus de liberdade."
   ]
  },
  {
   "cell_type": "code",
   "execution_count": 259,
   "metadata": {
    "collapsed": false
   },
   "outputs": [],
   "source": [
    "#6)\n",
    "def make_column_point(x, y):\n",
    "    return sp.Matrix([[x],[y],[1]])\n",
    "\n",
    "pvermelhoi = make_column_point(30, 30)\n",
    "pazuli = make_column_point(30, 90)\n",
    "pamareloi = make_column_point(30, 150)\n",
    "pturquesai = make_column_point(90, 90)\n",
    "pverdei = make_column_point(150, 150)\n",
    "proxoi = make_column_point(150, 90)\n",
    "ppretoi = make_column_point(150, 150)\n",
    "\n",
    "points_entrada = [pvermelhoi, pazuli, pamareloi,pturquesai, pverdei, proxoi, ppretoi]\n",
    "\n",
    "pvermelhos = make_column_point(135, 95)\n",
    "pazuls = make_column_point(115, 150)\n",
    "pamarelos = make_column_point(90, 205)\n",
    "pturquesas = make_column_point(170, 170)\n",
    "pverdes = make_column_point(250, 140)\n",
    "proxos = make_column_point(225, 195)\n",
    "ppretos = make_column_point(200, 250)\n",
    "\n",
    "points_saida = [pvermelhos, pazuls, pamarelos,pturquesas, pverdes, proxos, ppretos]"
   ]
  },
  {
   "cell_type": "code",
   "execution_count": 260,
   "metadata": {
    "collapsed": false
   },
   "outputs": [
    {
     "data": {
      "text/latex": [
       "$$\\left [ \\left[\\begin{matrix}30\\\\30\\\\1\\end{matrix}\\right], \\quad \\left[\\begin{matrix}30\\\\90\\\\1\\end{matrix}\\right], \\quad \\left[\\begin{matrix}30\\\\150\\\\1\\end{matrix}\\right], \\quad \\left[\\begin{matrix}90\\\\90\\\\1\\end{matrix}\\right], \\quad \\left[\\begin{matrix}150\\\\150\\\\1\\end{matrix}\\right], \\quad \\left[\\begin{matrix}150\\\\90\\\\1\\end{matrix}\\right], \\quad \\left[\\begin{matrix}150\\\\150\\\\1\\end{matrix}\\right]\\right ]$$"
      ],
      "text/plain": [
       "⎡⎡30⎤, ⎡30⎤, ⎡30 ⎤, ⎡90⎤, ⎡150⎤, ⎡150⎤, ⎡150⎤⎤\n",
       "⎢⎢  ⎥  ⎢  ⎥  ⎢   ⎥  ⎢  ⎥  ⎢   ⎥  ⎢   ⎥  ⎢   ⎥⎥\n",
       "⎢⎢30⎥  ⎢90⎥  ⎢150⎥  ⎢90⎥  ⎢150⎥  ⎢90 ⎥  ⎢150⎥⎥\n",
       "⎢⎢  ⎥  ⎢  ⎥  ⎢   ⎥  ⎢  ⎥  ⎢   ⎥  ⎢   ⎥  ⎢   ⎥⎥\n",
       "⎣⎣1 ⎦  ⎣1 ⎦  ⎣ 1 ⎦  ⎣1 ⎦  ⎣ 1 ⎦  ⎣ 1 ⎦  ⎣ 1 ⎦⎦"
      ]
     },
     "execution_count": 260,
     "metadata": {},
     "output_type": "execute_result"
    }
   ],
   "source": [
    "points_entrada"
   ]
  },
  {
   "cell_type": "code",
   "execution_count": 261,
   "metadata": {
    "collapsed": false
   },
   "outputs": [
    {
     "data": {
      "text/latex": [
       "$$\\left [ \\left[\\begin{matrix}135\\\\95\\\\1\\end{matrix}\\right], \\quad \\left[\\begin{matrix}115\\\\150\\\\1\\end{matrix}\\right], \\quad \\left[\\begin{matrix}90\\\\205\\\\1\\end{matrix}\\right], \\quad \\left[\\begin{matrix}170\\\\170\\\\1\\end{matrix}\\right], \\quad \\left[\\begin{matrix}250\\\\140\\\\1\\end{matrix}\\right], \\quad \\left[\\begin{matrix}225\\\\195\\\\1\\end{matrix}\\right], \\quad \\left[\\begin{matrix}200\\\\250\\\\1\\end{matrix}\\right]\\right ]$$"
      ],
      "text/plain": [
       "⎡⎡135⎤, ⎡115⎤, ⎡90 ⎤, ⎡170⎤, ⎡250⎤, ⎡225⎤, ⎡200⎤⎤\n",
       "⎢⎢   ⎥  ⎢   ⎥  ⎢   ⎥  ⎢   ⎥  ⎢   ⎥  ⎢   ⎥  ⎢   ⎥⎥\n",
       "⎢⎢95 ⎥  ⎢150⎥  ⎢205⎥  ⎢170⎥  ⎢140⎥  ⎢195⎥  ⎢250⎥⎥\n",
       "⎢⎢   ⎥  ⎢   ⎥  ⎢   ⎥  ⎢   ⎥  ⎢   ⎥  ⎢   ⎥  ⎢   ⎥⎥\n",
       "⎣⎣ 1 ⎦  ⎣ 1 ⎦  ⎣ 1 ⎦  ⎣ 1 ⎦  ⎣ 1 ⎦  ⎣ 1 ⎦  ⎣ 1 ⎦⎦"
      ]
     },
     "execution_count": 261,
     "metadata": {},
     "output_type": "execute_result"
    }
   ],
   "source": [
    "points_saida"
   ]
  },
  {
   "cell_type": "code",
   "execution_count": 262,
   "metadata": {
    "collapsed": true
   },
   "outputs": [],
   "source": [
    "alpha, beta, t_x, t_y =  sp.symbols(\"alpha, beta, t_x, t_y\")"
   ]
  },
  {
   "cell_type": "code",
   "execution_count": 263,
   "metadata": {
    "collapsed": true
   },
   "outputs": [],
   "source": [
    "MatrixM = sp.Matrix([[alpha, -beta, t_x],[-beta, -alpha, t_y],[0, 0, 1]])\n"
   ]
  },
  {
   "cell_type": "code",
   "execution_count": 264,
   "metadata": {
    "collapsed": false
   },
   "outputs": [
    {
     "name": "stdout",
     "output_type": "stream",
     "text": [
      "Equaçōes do sistema sobredeterminado (todas as equaçōe são iguais a 0):\n"
     ]
    },
    {
     "data": {
      "image/png": "[encoded data removed]",
      "text/latex": [
       "$$30 \\alpha - 30 \\beta + t_{x} - 135$$"
      ],
      "text/plain": [
       "30⋅α - 30⋅β + tₓ - 135"
      ]
     },
     "metadata": {},
     "output_type": "display_data"
    },
    {
     "data": {
      "image/png": "[encoded data removed]",
      "text/latex": [
       "$$- 30 \\alpha - 30 \\beta + t_{y} - 95$$"
      ],
      "text/plain": [
       "-30⋅α - 30⋅β + t_y - 95"
      ]
     },
     "metadata": {},
     "output_type": "display_data"
    },
    {
     "data": {
      "image/png": "[encoded data removed]",
      "text/latex": [
       "$$30 \\alpha - 90 \\beta + t_{x} - 115$$"
      ],
      "text/plain": [
       "30⋅α - 90⋅β + tₓ - 115"
      ]
     },
     "metadata": {},
     "output_type": "display_data"
    },
    {
     "data": {
      "image/png": "[encoded data removed]",
      "text/latex": [
       "$$- 90 \\alpha - 30 \\beta + t_{y} - 150$$"
      ],
      "text/plain": [
       "-90⋅α - 30⋅β + t_y - 150"
      ]
     },
     "metadata": {},
     "output_type": "display_data"
    },
    {
     "data": {
      "image/png": "[encoded data removed]",
      "text/latex": [
       "$$30 \\alpha - 150 \\beta + t_{x} - 90$$"
      ],
      "text/plain": [
       "30⋅α - 150⋅β + tₓ - 90"
      ]
     },
     "metadata": {},
     "output_type": "display_data"
    },
    {
     "data": {
      "image/png": "[encoded data removed]",
      "text/latex": [
       "$$- 150 \\alpha - 30 \\beta + t_{y} - 205$$"
      ],
      "text/plain": [
       "-150⋅α - 30⋅β + t_y - 205"
      ]
     },
     "metadata": {},
     "output_type": "display_data"
    },
    {
     "data": {
      "image/png": "[encoded data removed]",
      "text/latex": [
       "$$90 \\alpha - 90 \\beta + t_{x} - 170$$"
      ],
      "text/plain": [
       "90⋅α - 90⋅β + tₓ - 170"
      ]
     },
     "metadata": {},
     "output_type": "display_data"
    },
    {
     "data": {
      "image/png": "[encoded data removed]",
      "text/latex": [
       "$$- 90 \\alpha - 90 \\beta + t_{y} - 170$$"
      ],
      "text/plain": [
       "-90⋅α - 90⋅β + t_y - 170"
      ]
     },
     "metadata": {},
     "output_type": "display_data"
    },
    {
     "data": {
      "image/png": "[encoded data removed]",
      "text/latex": [
       "$$150 \\alpha - 150 \\beta + t_{x} - 250$$"
      ],
      "text/plain": [
       "150⋅α - 150⋅β + tₓ - 250"
      ]
     },
     "metadata": {},
     "output_type": "display_data"
    },
    {
     "data": {
      "image/png": "[encoded data removed]",
      "text/latex": [
       "$$- 150 \\alpha - 150 \\beta + t_{y} - 140$$"
      ],
      "text/plain": [
       "-150⋅α - 150⋅β + t_y - 140"
      ]
     },
     "metadata": {},
     "output_type": "display_data"
    },
    {
     "data": {
      "image/png": "[encoded data removed]",
      "text/latex": [
       "$$150 \\alpha - 90 \\beta + t_{x} - 225$$"
      ],
      "text/plain": [
       "150⋅α - 90⋅β + tₓ - 225"
      ]
     },
     "metadata": {},
     "output_type": "display_data"
    },
    {
     "data": {
      "image/png": "[encoded data removed]",
      "text/latex": [
       "$$- 90 \\alpha - 150 \\beta + t_{y} - 195$$"
      ],
      "text/plain": [
       "-90⋅α - 150⋅β + t_y - 195"
      ]
     },
     "metadata": {},
     "output_type": "display_data"
    },
    {
     "data": {
      "image/png": "[encoded data removed]",
      "text/latex": [
       "$$150 \\alpha - 150 \\beta + t_{x} - 200$$"
      ],
      "text/plain": [
       "150⋅α - 150⋅β + tₓ - 200"
      ]
     },
     "metadata": {},
     "output_type": "display_data"
    },
    {
     "data": {
      "image/png": "[encoded data removed]",
      "text/latex": [
       "$$- 150 \\alpha - 150 \\beta + t_{y} - 250$$"
      ],
      "text/plain": [
       "-150⋅α - 150⋅β + t_y - 250"
      ]
     },
     "metadata": {},
     "output_type": "display_data"
    }
   ],
   "source": [
    "equations = []\n",
    "system_eq = [] \n",
    "left_side = [] \n",
    "\n",
    "for p in points_entrada:\n",
    "    produto = MatrixM*p\n",
    "    equations.append(produto)\n",
    "\n",
    "print(\"Equaçōes do sistema sobredeterminado (todas as equaçōe são iguais a 0):\")\n",
    "    \n",
    "for i in range(len(equations)):\n",
    "    for j in range(len(equations[i][:-1])):\n",
    "        eq = equations[i][j]-points_saida[i][j]\n",
    "        left_side.append(equations[i][j])\n",
    "        system_eq.append(eq)\n",
    "\n",
    "for equation in system_eq:\n",
    "    display(equation)"
   ]
  },
  {
   "cell_type": "code",
   "execution_count": 291,
   "metadata": {
    "collapsed": false,
    "scrolled": true
   },
   "outputs": [
    {
     "name": "stdout",
     "output_type": "stream",
     "text": [
      "-48.3286499917\n",
      "0.476672769723\n",
      "102.613636364\n",
      "174.053030303\n",
      "(array([   0.31691919,   -0.35606061,  102.61363636,  174.0530303 ]), array([ 28401.89393939]), 4, array([ 413.5282464 ,  413.5282464 ,    1.17874005,    1.17874005]))\n"
     ]
    }
   ],
   "source": [
    "A = np.array([\n",
    "    [30,-30,1,0],\n",
    "    [-30,-30,0,1],\n",
    "    [30,-90,1,0],\n",
    "    [-90,-30,0,1],\n",
    "    [30,-150,1,0],\n",
    "    [-150,-30,0,1],\n",
    "    [90,-90,1,0],\n",
    "    [-90,-90,0,1],\n",
    "    [150,-150,1,0],\n",
    "    [-150,-150,0,1],\n",
    "    [150,-90,1,0],\n",
    "    [-90,-150,0,1],\n",
    "    [150,-150,1,0],\n",
    "    [-150,-150,0,1]])\n",
    "\n",
    "b = np.array([135,95,115,150,90,205,170,170,250,140,225,195,200,250])\n",
    "\n",
    "sol = np.linalg.lstsq(A, b)\n",
    "\n",
    "a = (sol[0][0])\n",
    "b = (sol[0][1])\n",
    "tx = (sol[0][2])\n",
    "ty = (sol[0][3])\n",
    "\n",
    "thetar = math.atan(b/a) #em radiano\n",
    "thetag = math.degrees(thetar) #em graus \n",
    "\n",
    "escala = (a/math.cos(thetar))\n",
    "print(thetag)\n",
    "print(escala)\n",
    "print(tx)\n",
    "print(ty)\n",
    "print(sol)"
   ]
  },
  {
   "cell_type": "code",
   "execution_count": 266,
   "metadata": {
    "collapsed": false
   },
   "outputs": [
    {
     "name": "stdout",
     "output_type": "stream",
     "text": [
      "Para esse metodo os graus de liberdade deram: \n",
      "θ = -48.328°\n",
      "escala = 0.476\n",
      "translação em x= 102.613\n",
      "tranlação em y = 174.05\n"
     ]
    }
   ],
   "source": [
    "print(\"Para esse metodo os graus de liberdade deram: \")\n",
    "print(\"θ = -48.328°\")\n",
    "print(\"escala = 0.476\")\n",
    "print(\"translação em x= 102.613\")\n",
    "print(\"tranlação em y = 174.05\")"
   ]
  },
  {
   "cell_type": "code",
   "execution_count": 267,
   "metadata": {
    "collapsed": false
   },
   "outputs": [
    {
     "name": "stdout",
     "output_type": "stream",
     "text": [
      "-19.9831065219\n",
      "-0.975391659226635\n",
      "172\n",
      "77\n"
     ]
    }
   ],
   "source": [
    "import sympy \n",
    "from sympy.solvers import solve\n",
    "from sympy import Symbol\n",
    "from sympy import Matrix, solve_linear_system\n",
    "from sympy.abc import a, b, x, y\n",
    "'''\n",
    "system= Matrix((\n",
    "    (30,-30,1,0,135),\n",
    "    (-30,-30,0,1,95),\n",
    "    (30,-90,1,0,115),\n",
    "    (-90,-30,0,1,150),\n",
    "    (30,-150,1,0,90),\n",
    "    (-150,-30,0,1,205),\n",
    "    (90,-90,1,0,170),\n",
    "    (-90,-90,0,1,170),\n",
    "    (150,-150,1,0,250),\n",
    "    (-150,-150,0,1,140),\n",
    "    (150,-90,1,0,225),\n",
    "    (-90,-150,0,1,195),\n",
    "    (150,-150,1,0,200),\n",
    "    (-150,-150,0,1,250)\n",
    "    ))\n",
    "'''\n",
    "\n",
    "system= Matrix((\n",
    "    (30,-30,1,0,135),\n",
    "    (-30,-30,0,1,95),\n",
    "    (30,-90,1,0,115),\n",
    "    (-90,-30,0,1,150),\n",
    "    ))\n",
    "\n",
    "\n",
    "               \n",
    "res = solve_linear_system(system, a, b, x, y)\n",
    "\n",
    "\n",
    "thetar = math.atan(res[b]/res[a]) #em radiano\n",
    "thetag = math.degrees(thetar) #em graus \n",
    "\n",
    "escala = (res[a]/math.cos(thetar))\n",
    "\n",
    "print(thetag)\n",
    "print(escala)\n",
    "#print(res[x])\n",
    "#print(res[y])\n",
    "tx1= 345/2\n",
    "ty1= 155/2\n",
    "print(tx1)\n",
    "print(ty1)"
   ]
  },
  {
   "cell_type": "code",
   "execution_count": 268,
   "metadata": {
    "collapsed": false
   },
   "outputs": [
    {
     "name": "stdout",
     "output_type": "stream",
     "text": [
      "Para esse metodo os graus de liberdade deram: \n",
      "θ = -19.98°\n",
      "escala = -0.97\n",
      "translação em x= 172\n",
      "tranlação em y = 77\n"
     ]
    }
   ],
   "source": [
    "print(\"Para esse metodo os graus de liberdade deram: \")\n",
    "print(\"θ = -19.98°\")\n",
    "print(\"escala = -0.97\")\n",
    "print(\"translação em x= 172\")\n",
    "print(\"tranlação em y = 77\")"
   ]
  },
  {
   "cell_type": "code",
   "execution_count": 269,
   "metadata": {
    "collapsed": false
   },
   "outputs": [
    {
     "name": "stdout",
     "output_type": "stream",
     "text": [
      "22.1094483438\n",
      "1.43915966993088\n",
      "131\n",
      "421\n"
     ]
    }
   ],
   "source": [
    "system2= Matrix((\n",
    "    (30,-150,1,0,90),\n",
    "    (-150,-30,0,1,205),\n",
    "    (150,-150,1,0,250),\n",
    "    (-150,-150,0,1,140),\n",
    "    ))\n",
    "\n",
    "res2 = solve_linear_system(system2, a, b, x, y)\n",
    "\n",
    "thetar = math.atan(res2[b]/res2[a]) #em radiano\n",
    "thetag = math.degrees(thetar) #em graus \n",
    "\n",
    "escala = (res2[a]/math.cos(thetar))\n",
    "\n",
    "print(thetag)\n",
    "print(escala)\n",
    "# print(res2[x])\n",
    "# print(res2[y])\n",
    "tx2= 525/4\n",
    "ty2= 1685/4\n",
    "print(tx2)\n",
    "print(ty2)"
   ]
  },
  {
   "cell_type": "code",
   "execution_count": 270,
   "metadata": {
    "collapsed": false
   },
   "outputs": [
    {
     "name": "stdout",
     "output_type": "stream",
     "text": [
      "Para esse metodo os graus de liberdade deram: \n",
      "θ =22.10°\n",
      "escala = 1.43\n",
      "translação em x= 131\n",
      "tranlação em y = 421\n"
     ]
    }
   ],
   "source": [
    "print(\"Para esse metodo os graus de liberdade deram: \")\n",
    "print(\"θ =22.10°\")\n",
    "print(\"escala = 1.43\")\n",
    "print(\"translação em x= 131\")\n",
    "print(\"tranlação em y = 421\")"
   ]
  },
  {
   "cell_type": "code",
   "execution_count": 271,
   "metadata": {
    "collapsed": false
   },
   "outputs": [
    {
     "name": "stdout",
     "output_type": "stream",
     "text": [
      "-24.4439547804\n",
      "1.00692049779955\n",
      "50\n",
      "215\n"
     ]
    }
   ],
   "source": [
    "system3= Matrix((\n",
    "    (90,-90,1,0,170),\n",
    "    (-90,-90,0,1,170),\n",
    "    (150,-150,1,0,250),\n",
    "    (-150,-150,0,1,140),\n",
    "    ))\n",
    "\n",
    "res3 = solve_linear_system(system3, a, b, x, y)\n",
    "\n",
    "thetar = math.atan(res3[b]/res3[a]) #em radiano\n",
    "thetag = math.degrees(thetar) #em graus \n",
    "\n",
    "escala = (res3[a]/math.cos(thetar))\n",
    "\n",
    "print(thetag)\n",
    "print(escala)\n",
    "print(res3[x])\n",
    "print(res3[y])"
   ]
  },
  {
   "cell_type": "code",
   "execution_count": 272,
   "metadata": {
    "collapsed": false
   },
   "outputs": [
    {
     "name": "stdout",
     "output_type": "stream",
     "text": [
      "Para esse metodo os graus de liberdade deram: \n",
      "θ =-24.44°\n",
      "escala = 1.006\n",
      "translação em x= 50\n",
      "tranlação em y = 215\n"
     ]
    }
   ],
   "source": [
    "print(\"Para esse metodo os graus de liberdade deram: \")\n",
    "print(\"θ =-24.44°\")\n",
    "print(\"escala = 1.006\")\n",
    "print(\"translação em x= 50\")\n",
    "print(\"tranlação em y = 215\")"
   ]
  },
  {
   "cell_type": "code",
   "execution_count": 281,
   "metadata": {
    "collapsed": false
   },
   "outputs": [],
   "source": [
    "import cv2\n",
    "import numpy as np\n",
    "\n",
    "import matplotlib.pyplot as plt\n",
    "\n",
    "%matplotlib inline\n",
    "\n",
    "img = blank\n",
    "rows,cols = img.shape[:2]\n",
    "\n",
    "# Source points\n",
    "srcTri = np.array([(0,0),(cols-1,0),(0,rows-1)], np.float32)\n",
    "\n",
    "# Corresponding Destination Points. Remember, both sets are of float32 type\n",
    "dstTri = np.array([(cols*0.0,rows*0.33),(cols*0.85,rows*0.25), (cols*0.15,rows*0.7)],np.float32)\n",
    "\n",
    "# Affine Transformation\n",
    "warp_mat = np.array([[alp, -bet,tx], [-bet,-alp,ty]])   # Generating affine transform matrix of size 2x3\n",
    "dst = cv2.warpAffine(img,warp_mat,(cols,rows))     # Now transform the image, notice dst_size=(cols,rows), not (rows,cols)\n",
    "\n",
    "warp_mat1 = np.array([[float(res[a]), float(-res[b]),float(res[x])], [float(-res[b]),float(-res[a]),float(res[y])]])   # Generating affine transform matrix of size 2x3\n",
    "dst1 = cv2.warpAffine(img,warp_mat1,(cols,rows))\n",
    "\n",
    "warp_mat2 = np.array([[float(res2[a]), float(-res2[b]),float(res2[x])], [float(-res2[b]),float(-res2[a]),float(res2[y])]])   # Generating affine transform matrix of size 2x3\n",
    "dst2 = cv2.warpAffine(img,warp_mat2,(cols,rows))\n",
    "\n",
    "warp_mat3 = np.array([[float(res3[a]), float(-res3[b]),float(res3[x])], [float(-res3[b]),float(-res3[a]),float(res3[y])]])   # Generating affine transform matrix of size 2x3\n",
    "dst3 = cv2.warpAffine(img,warp_mat3,(cols,rows))"
   ]
  },
  {
   "cell_type": "code",
   "execution_count": 293,
   "metadata": {
    "collapsed": false
   },
   "outputs": [
    {
     "data": {
      "text/plain": [
       "<matplotlib.image.AxesImage at 0x1105d8490>"
      ]
     },
     "execution_count": 293,
     "metadata": {},
     "output_type": "execute_result"
    },
    {
     "data": {
      "image/png": "[encoded data removed]",
      "text/plain": [
       "<matplotlib.figure.Figure at 0x10f7b5e90>"
      ]
     },
     "metadata": {},
     "output_type": "display_data"
    }
   ],
   "source": [
    "plt.imshow(dst) #Melhor resultado -> graus de liberdades descobertos usando numpy.linalg.lstsq"
   ]
  },
  {
   "cell_type": "code",
   "execution_count": 287,
   "metadata": {
    "collapsed": false
   },
   "outputs": [
    {
     "data": {
      "text/plain": [
       "<matplotlib.image.AxesImage at 0x10f66a5d0>"
      ]
     },
     "execution_count": 287,
     "metadata": {},
     "output_type": "execute_result"
    },
    {
     "data": {
      "image/png": "[encoded data removed]",
      "text/plain": [
       "<matplotlib.figure.Figure at 0x10e77b950>"
      ]
     },
     "metadata": {},
     "output_type": "display_data"
    }
   ],
   "source": [
    "plt.imshow(dst1)"
   ]
  },
  {
   "cell_type": "code",
   "execution_count": 289,
   "metadata": {
    "collapsed": false
   },
   "outputs": [
    {
     "data": {
      "text/plain": [
       "<matplotlib.image.AxesImage at 0x11007be90>"
      ]
     },
     "execution_count": 289,
     "metadata": {},
     "output_type": "execute_result"
    },
    {
     "data": {
      "image/png": "[encoded data removed]",
      "text/plain": [
       "<matplotlib.figure.Figure at 0x10f334b50>"
      ]
     },
     "metadata": {},
     "output_type": "display_data"
    }
   ],
   "source": [
    "plt.imshow(dst2)"
   ]
  },
  {
   "cell_type": "code",
   "execution_count": 290,
   "metadata": {
    "collapsed": false
   },
   "outputs": [
    {
     "data": {
      "text/plain": [
       "<matplotlib.image.AxesImage at 0x110197110>"
      ]
     },
     "execution_count": 290,
     "metadata": {},
     "output_type": "execute_result"
    },
    {
     "data": {
      "image/png": "[encoded data removed]",
      "text/plain": [
       "<matplotlib.figure.Figure at 0x1100a1a10>"
      ]
     },
     "metadata": {},
     "output_type": "display_data"
    }
   ],
   "source": [
    "plt.imshow(dst3)"
   ]
  },
  {
   "cell_type": "markdown",
   "metadata": {},
   "source": [
    "## Referências\n",
    "\n",
    "\n",
    "\n",
    "[Shapiro and Shepard. Computer Vision. Seção 11.2, Capítulo 11](https://courses.cs.washington.edu/courses/cse576/book/ch11.pdf)\n",
    "\n",
    "[http://docs.opencv.org/3.1.0/da/d6e/tutorial_py_geometric_transformations.html#gsc.tab=0](http://docs.opencv.org/3.1.0/da/d6e/tutorial_py_geometric_transformations.html#gsc.tab=0)\n",
    "\n"
   ]
  }
 ],
 "metadata": {
  "kernelspec": {
   "display_name": "Python 2",
   "language": "python",
   "name": "python2"
  },
  "language_info": {
   "codemirror_mode": {
    "name": "ipython",
    "version": 2
   },
   "file_extension": ".py",
   "mimetype": "text/x-python",
   "name": "python",
   "nbconvert_exporter": "python",
   "pygments_lexer": "ipython2",
   "version": "2.7.11"
  }
 },
 "nbformat": 4,
 "nbformat_minor": 0
}
